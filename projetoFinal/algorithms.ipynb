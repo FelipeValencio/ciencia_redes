{
 "cells": [
  {
   "metadata": {},
   "cell_type": "markdown",
   "source": [
    "### Louvain Community Detection Algorithm\n",
    "Não funcionou pois não se aplica a grafos direcionados :("
   ],
   "id": "587d95015f905b1c"
  },
  {
   "cell_type": "code",
   "id": "initial_id",
   "metadata": {
    "collapsed": true,
    "ExecuteTime": {
     "end_time": "2025-01-26T22:40:55.718887Z",
     "start_time": "2025-01-26T22:40:55.097636Z"
    }
   },
   "source": [
    "import networkx as nx\n",
    "import community as community_louvain\n",
    "\n",
    "# define the graph\n",
    "G = nx.read_gml(\"./rappers_graph.gml\")\n",
    "\n",
    "# retrun partition as a dict\n",
    "partition = community_louvain.best_partition(G)\n",
    "\n",
    "# Export the graph to a GML file\n",
    "nx.write_gml(G, \"rappers_graph_louvain.gml\")\n",
    "\n",
    "print(\"Graph has been exported to 'rappers_graph_louvain.gml'\")"
   ],
   "outputs": [
    {
     "ename": "TypeError",
     "evalue": "Bad graph type, use only non directed graph",
     "output_type": "error",
     "traceback": [
      "\u001B[0;31m---------------------------------------------------------------------------\u001B[0m",
      "\u001B[0;31mTypeError\u001B[0m                                 Traceback (most recent call last)",
      "Cell \u001B[0;32mIn[1], line 9\u001B[0m\n\u001B[1;32m      6\u001B[0m G \u001B[38;5;241m=\u001B[39m nx\u001B[38;5;241m.\u001B[39mread_gml(\u001B[38;5;124m\"\u001B[39m\u001B[38;5;124m./rappers_graph.gml\u001B[39m\u001B[38;5;124m\"\u001B[39m)\n\u001B[1;32m      8\u001B[0m \u001B[38;5;66;03m# retrun partition as a dict\u001B[39;00m\n\u001B[0;32m----> 9\u001B[0m partition \u001B[38;5;241m=\u001B[39m \u001B[43mcommunity_louvain\u001B[49m\u001B[38;5;241;43m.\u001B[39;49m\u001B[43mbest_partition\u001B[49m\u001B[43m(\u001B[49m\u001B[43mG\u001B[49m\u001B[43m)\u001B[49m\n\u001B[1;32m     10\u001B[0m \u001B[38;5;66;03m# visualization\u001B[39;00m\n\u001B[1;32m     11\u001B[0m pos \u001B[38;5;241m=\u001B[39m nx\u001B[38;5;241m.\u001B[39mspring_layout(G)\n",
      "File \u001B[0;32m~/.local/lib/python3.10/site-packages/community/community_louvain.py:249\u001B[0m, in \u001B[0;36mbest_partition\u001B[0;34m(graph, partition, weight, resolution, randomize, random_state)\u001B[0m\n\u001B[1;32m    163\u001B[0m \u001B[38;5;28;01mdef\u001B[39;00m \u001B[38;5;21mbest_partition\u001B[39m(graph,\n\u001B[1;32m    164\u001B[0m                    partition\u001B[38;5;241m=\u001B[39m\u001B[38;5;28;01mNone\u001B[39;00m,\n\u001B[1;32m    165\u001B[0m                    weight\u001B[38;5;241m=\u001B[39m\u001B[38;5;124m'\u001B[39m\u001B[38;5;124mweight\u001B[39m\u001B[38;5;124m'\u001B[39m,\n\u001B[1;32m    166\u001B[0m                    resolution\u001B[38;5;241m=\u001B[39m\u001B[38;5;241m1.\u001B[39m,\n\u001B[1;32m    167\u001B[0m                    randomize\u001B[38;5;241m=\u001B[39m\u001B[38;5;28;01mNone\u001B[39;00m,\n\u001B[1;32m    168\u001B[0m                    random_state\u001B[38;5;241m=\u001B[39m\u001B[38;5;28;01mNone\u001B[39;00m):\n\u001B[1;32m    169\u001B[0m     \u001B[38;5;124;03m\"\"\"Compute the partition of the graph nodes which maximises the modularity\u001B[39;00m\n\u001B[1;32m    170\u001B[0m \u001B[38;5;124;03m    (or try..) using the Louvain heuristices\u001B[39;00m\n\u001B[1;32m    171\u001B[0m \n\u001B[0;32m   (...)\u001B[0m\n\u001B[1;32m    247\u001B[0m \u001B[38;5;124;03m    >>> plt.show()\u001B[39;00m\n\u001B[1;32m    248\u001B[0m \u001B[38;5;124;03m    \"\"\"\u001B[39;00m\n\u001B[0;32m--> 249\u001B[0m     dendo \u001B[38;5;241m=\u001B[39m \u001B[43mgenerate_dendrogram\u001B[49m\u001B[43m(\u001B[49m\u001B[43mgraph\u001B[49m\u001B[43m,\u001B[49m\n\u001B[1;32m    250\u001B[0m \u001B[43m                                \u001B[49m\u001B[43mpartition\u001B[49m\u001B[43m,\u001B[49m\n\u001B[1;32m    251\u001B[0m \u001B[43m                                \u001B[49m\u001B[43mweight\u001B[49m\u001B[43m,\u001B[49m\n\u001B[1;32m    252\u001B[0m \u001B[43m                                \u001B[49m\u001B[43mresolution\u001B[49m\u001B[43m,\u001B[49m\n\u001B[1;32m    253\u001B[0m \u001B[43m                                \u001B[49m\u001B[43mrandomize\u001B[49m\u001B[43m,\u001B[49m\n\u001B[1;32m    254\u001B[0m \u001B[43m                                \u001B[49m\u001B[43mrandom_state\u001B[49m\u001B[43m)\u001B[49m\n\u001B[1;32m    255\u001B[0m     \u001B[38;5;28;01mreturn\u001B[39;00m partition_at_level(dendo, \u001B[38;5;28mlen\u001B[39m(dendo) \u001B[38;5;241m-\u001B[39m \u001B[38;5;241m1\u001B[39m)\n",
      "File \u001B[0;32m~/.local/lib/python3.10/site-packages/community/community_louvain.py:322\u001B[0m, in \u001B[0;36mgenerate_dendrogram\u001B[0;34m(graph, part_init, weight, resolution, randomize, random_state)\u001B[0m\n\u001B[1;32m    264\u001B[0m \u001B[38;5;124;03m\"\"\"Find communities in the graph and return the associated dendrogram\u001B[39;00m\n\u001B[1;32m    265\u001B[0m \n\u001B[1;32m    266\u001B[0m \u001B[38;5;124;03mA dendrogram is a tree and each level is a partition of the graph nodes.\u001B[39;00m\n\u001B[0;32m   (...)\u001B[0m\n\u001B[1;32m    319\u001B[0m \u001B[38;5;124;03m:type weight:\u001B[39;00m\n\u001B[1;32m    320\u001B[0m \u001B[38;5;124;03m\"\"\"\u001B[39;00m\n\u001B[1;32m    321\u001B[0m \u001B[38;5;28;01mif\u001B[39;00m graph\u001B[38;5;241m.\u001B[39mis_directed():\n\u001B[0;32m--> 322\u001B[0m     \u001B[38;5;28;01mraise\u001B[39;00m \u001B[38;5;167;01mTypeError\u001B[39;00m(\u001B[38;5;124m\"\u001B[39m\u001B[38;5;124mBad graph type, use only non directed graph\u001B[39m\u001B[38;5;124m\"\u001B[39m)\n\u001B[1;32m    324\u001B[0m \u001B[38;5;66;03m# Properly handle random state, eventually remove old `randomize` parameter\u001B[39;00m\n\u001B[1;32m    325\u001B[0m \u001B[38;5;66;03m# NOTE: when `randomize` is removed, delete code up to random_state = ...\u001B[39;00m\n\u001B[1;32m    326\u001B[0m \u001B[38;5;28;01mif\u001B[39;00m randomize \u001B[38;5;129;01mis\u001B[39;00m \u001B[38;5;129;01mnot\u001B[39;00m \u001B[38;5;28;01mNone\u001B[39;00m:\n",
      "\u001B[0;31mTypeError\u001B[0m: Bad graph type, use only non directed graph"
     ]
    }
   ],
   "execution_count": 1
  },
  {
   "metadata": {},
   "cell_type": "markdown",
   "source": [
    "### Leiden algorithm\n",
    "Não funcionou muito bem identificando comunidades, alguns nodes ficaram com muitas comunidades enquanto outros sem nenhuma"
   ],
   "id": "f94cf4e86990bdfa"
  },
  {
   "metadata": {
    "ExecuteTime": {
     "end_time": "2025-01-27T00:09:32.887984Z",
     "start_time": "2025-01-27T00:09:32.860304Z"
    }
   },
   "cell_type": "code",
   "source": [
    "import networkx as nx\n",
    "import leidenalg as la\n",
    "import igraph as ig\n",
    "\n",
    "# define the graph\n",
    "G = nx.read_gml(\"./rappers_graph.gml\")\n",
    "\n",
    "# Transfer node attributes explicitly to the igraph graph\n",
    "Gig = ig.Graph(directed=nx.is_directed(G))\n",
    "\n",
    "# Add nodes and edges to the igraph graph\n",
    "Gig.add_vertices(list(G.nodes()))\n",
    "Gig.add_edges(list(G.edges()))\n",
    "\n",
    "# If your NetworkX graph nodes have names or labels, set them as an igraph vertex attribute\n",
    "Gig.vs[\"name\"] = list(G.nodes())\n",
    "\n",
    "# Run the Leiden algorithm\n",
    "partition = la.find_partition(Gig, la.ModularityVertexPartition)\n",
    "\n",
    "# Create a mapping from igraph indices to NetworkX node names\n",
    "node_mapping = {v.index: v[\"name\"] for v in Gig.vs}\n",
    "\n",
    "# Build the partition dictionary using NetworkX node names\n",
    "partition_dict = {node_mapping[idx]: part for idx, part in enumerate(partition)}\n",
    "\n",
    "# Add the community attribute to the NetworkX graph\n",
    "nx.set_node_attributes(G, partition_dict, name=\"community\")\n",
    "\n",
    "for node in G.nodes():\n",
    "    if \"community\" not in G.nodes[node]:\n",
    "        G.nodes[node][\"community\"] = -1  # Use -1 for unassigned nodes\n",
    "\n",
    "# Export the graph with the corrected community information\n",
    "nx.write_gml(G, \"rappers_graph_louvain_fixed.gml\")\n",
    "\n",
    "print(\"Graph with corrected community information exported to 'rappers_graph_louvain_fixed.gml'\")\n",
    "\n",
    "print(f\"Number of nodes in the graph: {len(G.nodes())}\")\n",
    "print(f\"Number of nodes in the partition: {len(partition)}\")"
   ],
   "id": "6ccab7fbd7e5b35e",
   "outputs": [
    {
     "name": "stdout",
     "output_type": "stream",
     "text": [
      "Graph with corrected community information exported to 'rappers_graph_louvain_fixed.gml'\n",
      "Number of nodes in the graph: 150\n",
      "Number of nodes in the partition: 8\n"
     ]
    }
   ],
   "execution_count": 44
  },
  {
   "metadata": {},
   "cell_type": "markdown",
   "source": "### Infomap",
   "id": "bf998214bfb4a6cf"
  },
  {
   "metadata": {
    "ExecuteTime": {
     "end_time": "2025-01-26T23:05:41.504631Z",
     "start_time": "2025-01-26T23:05:41.475245Z"
    }
   },
   "cell_type": "code",
   "source": [
    "from igraph import Graph\n",
    "import networkx as nx\n",
    "import igraph as ig\n",
    "\n",
    "# define the graph\n",
    "G = nx.read_gml(\"./rappers_graph.gml\")\n",
    "\n",
    "# Convert the NetworkX graph to an igraph object\n",
    "Gig = ig.Graph(directed=True)\n",
    "Gig.add_vertices(list(G.nodes()))\n",
    "Gig.add_edges(list(G.edges()))\n",
    "\n",
    "# Run Infomap\n",
    "partition = Gig.community_infomap()\n",
    "\n",
    "# Assign communities back to NetworkX graph\n",
    "partition_dict = {v[\"name\"]: part for v, part in zip(Gig.vs, partition)}\n",
    "nx.set_node_attributes(G, partition_dict, \"community\")\n",
    "\n",
    "# Export the graph with the corrected community information\n",
    "nx.write_gml(G, \"rappers_graph_infomap.gml\")\n",
    "\n",
    "print(\"Graph with corrected community information exported to 'rappers_graph_infomap.gml'\")"
   ],
   "id": "55603a0edb61cccc",
   "outputs": [
    {
     "name": "stdout",
     "output_type": "stream",
     "text": [
      "Graph with corrected community information exported to 'rappers_graph_infomap.gml'\n"
     ]
    }
   ],
   "execution_count": 21
  },
  {
   "metadata": {},
   "cell_type": "markdown",
   "source": "### Walktrap",
   "id": "a2019dd525f19a2b"
  },
  {
   "metadata": {
    "ExecuteTime": {
     "end_time": "2025-01-27T00:15:55.844894Z",
     "start_time": "2025-01-27T00:15:55.821933Z"
    }
   },
   "cell_type": "code",
   "source": [
    "import networkx as nx\n",
    "import leidenalg as la\n",
    "import igraph as ig\n",
    "\n",
    "# define the graph\n",
    "G = nx.read_gml(\"./rappers_graph.gml\")\n",
    "\n",
    "# Transfer node attributes explicitly to the igraph graph\n",
    "Gig = ig.Graph(directed=nx.is_directed(G))\n",
    "\n",
    "# Add nodes and edges to the igraph graph\n",
    "Gig.add_vertices(list(G.nodes()))\n",
    "Gig.add_edges(list(G.edges()))\n",
    "\n",
    "# If your NetworkX graph nodes have names or labels, set them as an igraph vertex attribute\n",
    "Gig.vs[\"name\"] = list(G.nodes())\n",
    "\n",
    "# Run the Walktrap algorithm\n",
    "partition = Gig.community_walktrap().as_clustering()\n",
    "\n",
    "# Create a mapping from igraph indices to NetworkX node names\n",
    "node_mapping = {v.index: v[\"name\"] for v in Gig.vs}\n",
    "\n",
    "# Build the partition dictionary using NetworkX node names\n",
    "partition_dict = {}\n",
    "for i, part in enumerate(partition):\n",
    "    # Skip empty communities (if any)\n",
    "    if part:\n",
    "        for node_idx in part:\n",
    "            node_name = node_mapping[node_idx]\n",
    "            partition_dict[node_name] = i  # Assign the community index (i) to the node\n",
    "\n",
    "# Add the community attribute to the NetworkX graph\n",
    "nx.set_node_attributes(G, partition_dict, name=\"community\")\n",
    "\n",
    "# Export the graph with the corrected community information\n",
    "nx.write_gml(G, \"rappers_graph_walktrap.gml\")\n",
    "\n",
    "print(\"Graph with corrected community information exported to 'rappers_graph_walktrap.gml'\")\n",
    "\n",
    "print(f\"Number of nodes in the graph: {len(G.nodes())}\")\n",
    "print(f\"Number of communities in the partition: {len(partition)}\")\n"
   ],
   "id": "ff3a9e682f058c63",
   "outputs": [
    {
     "name": "stdout",
     "output_type": "stream",
     "text": [
      "Graph with corrected community information exported to 'rappers_graph_walktrap.gml'\n",
      "Number of nodes in the graph: 150\n",
      "Number of communities in the partition: 64\n"
     ]
    }
   ],
   "execution_count": 45
  },
  {
   "metadata": {},
   "cell_type": "markdown",
   "source": "### Girvan Newman",
   "id": "e93db92e719643b4"
  },
  {
   "metadata": {
    "ExecuteTime": {
     "end_time": "2025-01-27T00:03:14.568394Z",
     "start_time": "2025-01-27T00:03:09.507293Z"
    }
   },
   "cell_type": "code",
   "source": [
    "import networkx as nx\n",
    "\n",
    "# define the graph\n",
    "G = nx.read_gml(\"./rappers_graph.gml\")\n",
    "\n",
    "# Run Girvan-Newman\n",
    "communities = list(nx.algorithms.community.girvan_newman(G))\n",
    "\n",
    "# Get the first level of communities (i.e., after the first edge removal)\n",
    "first_community_level = communities[0]\n",
    "\n",
    "# Assign community labels as a node attribute\n",
    "for i, community in enumerate(first_community_level):\n",
    "    for node in community:\n",
    "        G.nodes[node]['community'] = i  # Assign a community index\n",
    "\n",
    "# Save the graph as a GML file\n",
    "nx.write_gml(G, \"rappers_graph_girvan.gml\")\n"
   ],
   "id": "1a616d8945afd7a5",
   "outputs": [],
   "execution_count": 37
  },
  {
   "metadata": {},
   "cell_type": "markdown",
   "source": "###  Strongly Connected Components (SCC)",
   "id": "6cc3010fcdba4c4f"
  },
  {
   "metadata": {
    "ExecuteTime": {
     "end_time": "2025-01-27T00:07:54.908991Z",
     "start_time": "2025-01-27T00:07:54.886676Z"
    }
   },
   "cell_type": "code",
   "source": [
    "import networkx as nx\n",
    "\n",
    "# define the graph\n",
    "G = nx.read_gml(\"./rappers_graph.gml\")\n",
    "\n",
    "# Find strongly connected components (SCC)\n",
    "sccs = list(nx.strongly_connected_components(G))\n",
    "\n",
    "# Add community labels (corresponding to each SCC) to nodes\n",
    "for i, scc in enumerate(sccs):\n",
    "    for node in scc:\n",
    "        G.nodes[node]['community'] = i\n",
    "\n",
    "# Save the graph with SCC-based community information to GML\n",
    "nx.write_gml(G, \"graph_with_scc_communities.gml\")\n"
   ],
   "id": "2610c70a2d0458d5",
   "outputs": [],
   "execution_count": 43
  }
 ],
 "metadata": {
  "kernelspec": {
   "display_name": "Python 3",
   "language": "python",
   "name": "python3"
  },
  "language_info": {
   "codemirror_mode": {
    "name": "ipython",
    "version": 2
   },
   "file_extension": ".py",
   "mimetype": "text/x-python",
   "name": "python",
   "nbconvert_exporter": "python",
   "pygments_lexer": "ipython2",
   "version": "2.7.6"
  }
 },
 "nbformat": 4,
 "nbformat_minor": 5
}
