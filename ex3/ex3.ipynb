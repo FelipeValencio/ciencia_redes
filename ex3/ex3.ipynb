{
 "cells": [
  {
   "cell_type": "markdown",
   "metadata": {},
   "source": [
    "### Felipe Gomes Valencio\n",
    "### RA: 2058162"
   ]
  },
  {
   "cell_type": "markdown",
   "metadata": {},
   "source": [
    "## 1- Usando a rede do desafio \"GraphMissingEdges.gml\", faça o que é pedido abaixo."
   ]
  },
  {
   "cell_type": "markdown",
   "metadata": {},
   "source": [
    "### a) Compute a centralidade de grau e identifique os top 50 lugares de acordo com essa métrica. Mostre o nome e categorias dos lugares."
   ]
  },
  {
   "cell_type": "code",
   "execution_count": 1,
   "metadata": {
    "ExecuteTime": {
     "end_time": "2024-11-10T20:35:45.305754Z",
     "start_time": "2024-11-10T20:35:44.597137Z"
    }
   },
   "outputs": [
    {
     "name": "stdout",
     "output_type": "stream",
     "text": [
      "[('221,64,1,83', 'Gaucho Parrilla Argentina'), ('1,393,275,208,58,651', 'Condado Tacos'), ('370,1,620,641', 'Noodlehead'), ('1,420,651', 'täkō'), ('58,275,393,208,420,83,651,1', 'Bakersfield'), ('275,604,420,173,1,58,641', 'Smallman Galley'), ('428,641,262,490,420,1,188', 'Meat & Potatoes'), ('1,287,289,405', \"DiAnoia's Eatery\"), ('741,1,405,46', 'Piada Italian Street Food'), ('1,362,857,204,641', 'Banh Mi & Ti'), ('604,1,208,612,58,275,437,706,133,641,289,613,330', 'Pork & Beans'), ('1,861,791,870,550', 'Social House Seven'), ('1,289,641,653', \"Millie's Homemade Ice Cream\"), ('58,201,1,100,275,641,188', 'Southern Tier Brewery Pittsburgh'), ('420,100,612,604,1,58,341,275', 'City Works - Pittsburgh'), ('1,602,289,82,248,420', 'The Porch at Schenley'), ('133,641,1,275,5,58,420,575', 'Altius'), ('275,420,362,641,1,58,173', 'The Abbey on Butler Street'), ('208,275,58,354,1,83', 'Muddy Waters Oyster Bar'), ('248,420,133,641,289,1,741,706,127,201', \"Burgh'ers Brewing\"), ('641,201,696', 'Mindful Brewing Company'), ('289,208,817,58,275,1', 'Pirata'), ('289,1,618,341,275,501,58,420', 'Primanti Bros'), ('405,641,696,58,1,82,275', 'Proper Brick Oven & Tap Room'), ('694,275,420,208,58,641,1', 'Butcher and the Rye'), ('275,1,58,201,604,575,641', 'Church Brew Works'), ('275,1,64,58,651', 'Totopo Mexican Kitchen and Bar'), ('1,620,661,870,275,58', 'Ki Ramen'), ('162,594,604,1', \"Deluca's Diner\"), ('1,162,344,173,575,641', 'Redhawk Coffee'), ('631,620,791,1', 'Everyday Noodles'), ('641,275,100,829,1,201,855,58', 'Hofbrauhaus Pittsburgh'), ('1,613,248,651,393', 'Smoke BBQ Taqueria'), ('289,275,58,1,341,306,420', 'Primanti Bros'), ('496,158,636,173,162,641,362,1', 'B52 Cafe'), ('653,575,641,262,414', 'Naturoll Creamery'), ('208,405,420,58,275,82,1', 'Sienna Mercato'), ('891,447,79,1,158,189,641', 'Istanbul Sofra'), ('641,653,838,575,262', 'The Milk Shake Factory'), ('1,620,631,370,83', 'Senyai Thai Kitchen'), ('1,420', 'Eleven'), ('1,58,275,64,817', 'Kaya'), ('1,275,604,58', 'Fat Heads Saloon'), ('208,275,1,651,58', 'Tres Rios'), ('1,550,58,870,275', 'Umami'), ('370,844,870,641,1,550', 'Pittsburgh Poke'), ('1,420,604', 'Ten Penny'), ('162,641,1,370,173,420', 'Coca Cafe'), ('550,1,870,217,641,844,861', 'Mount Everest Sushi'), ('420,602,741,188,1,604,289', 'The Urban Tap')]\n"
     ]
    }
   ],
   "source": [
    "import networkx as nx\n",
    "import heapq\n",
    "\n",
    "G = nx.read_gml(\"GraphMissingEdges.gml\")\n",
    "\n",
    "cents = nx.degree_centrality(G)\n",
    "\n",
    "top_keys = heapq.nlargest(50, cents, key=cents.get)\n",
    "\n",
    "result = [(G.nodes[key]['categories'], G.nodes[key]['name']) for key in top_keys if key in G.nodes]\n",
    "\n",
    "print(result)"
   ]
  },
  {
   "cell_type": "markdown",
   "metadata": {},
   "source": [
    "### b) Compute a centralidade de intermediação e identifique os top 50 lugares de acordo com essa métrica. Mostre o nome e categorias dos lugares."
   ]
  },
  {
   "cell_type": "code",
   "execution_count": 8,
   "metadata": {},
   "outputs": [
    {
     "name": "stdout",
     "output_type": "stream",
     "text": [
      "[('221,64,1,83', 'Gaucho Parrilla Argentina'), ('1,393,275,208,58,651', 'Condado Tacos'), ('370,1,620,641', 'Noodlehead'), ('1,420,651', 'täkō'), ('58,275,393,208,420,83,651,1', 'Bakersfield'), ('275,604,420,173,1,58,641', 'Smallman Galley'), ('428,641,262,490,420,1,188', 'Meat & Potatoes'), ('1,287,289,405', \"DiAnoia's Eatery\"), ('741,1,405,46', 'Piada Italian Street Food'), ('420,100,612,604,1,58,341,275', 'City Works - Pittsburgh'), ('1,362,857,204,641', 'Banh Mi & Ti'), ('604,1,208,612,58,275,437,706,133,641,289,613,330', 'Pork & Beans'), ('58,201,1,100,275,641,188', 'Southern Tier Brewery Pittsburgh'), ('1,861,791,870,550', 'Social House Seven'), ('641,201,696', 'Mindful Brewing Company'), ('1,289,641,653', \"Millie's Homemade Ice Cream\"), ('275,420,362,641,1,58,173', 'The Abbey on Butler Street'), ('1,602,289,82,248,420', 'The Porch at Schenley'), ('275,1,64,58,651', 'Totopo Mexican Kitchen and Bar'), ('248,420,133,641,289,1,741,706,127,201', \"Burgh'ers Brewing\"), ('133,641,1,275,5,58,420,575', 'Altius'), ('1,620,661,870,275,58', 'Ki Ramen'), ('289,208,817,58,275,1', 'Pirata'), ('405,641,696,58,1,82,275', 'Proper Brick Oven & Tap Room'), ('289,1,618,341,275,501,58,420', 'Primanti Bros'), ('208,275,58,354,1,83', 'Muddy Waters Oyster Bar'), ('1,613,248,651,393', 'Smoke BBQ Taqueria'), ('694,275,420,208,58,641,1', 'Butcher and the Rye'), ('275,1,58,201,604,575,641', 'Church Brew Works'), ('631,620,791,1', 'Everyday Noodles'), ('653,575,641,262,414', 'Naturoll Creamery'), ('496,158,636,173,162,641,362,1', 'B52 Cafe'), ('891,594,604,83,1', 'Central Diner & Grille'), ('289,275,58,1,341,306,420', 'Primanti Bros'), ('550,1,870,217,641,844,861', 'Mount Everest Sushi'), ('1,275,604,58', 'Fat Heads Saloon'), ('1,620,631,370,83', 'Senyai Thai Kitchen'), ('1,162,344,173,575,641', 'Redhawk Coffee'), ('641,275,100,829,1,201,855,58', 'Hofbrauhaus Pittsburgh'), ('208,405,420,58,275,82,1', 'Sienna Mercato'), ('162,641,1,370,173,420', 'Coca Cafe'), ('162,594,604,1', \"Deluca's Diner\"), ('653,82,575,1,405,641', \"Mineo's Pizza House\"), ('370,844,870,641,1,550', 'Pittsburgh Poke'), ('891,447,79,1,158,189,641', 'Istanbul Sofra'), ('162,1,594,604', \"Kelly O's Diner\"), ('370,575,1,83,496,641', \"Nicky's Thai Kitchen\"), ('420,58,1,188,275', 'The Yard'), ('208,275,1,651,58', 'Tres Rios'), ('641,653,838,575,262', 'The Milk Shake Factory')]\n"
     ]
    }
   ],
   "source": [
    "inter = nx.betweenness_centrality(G)\n",
    "\n",
    "top_keys = heapq.nlargest(50, inter, key=inter.get)\n",
    "\n",
    "result = [(G.nodes[key]['categories'], G.nodes[key]['name']) for key in top_keys if key in G.nodes]\n",
    "\n",
    "print(result)"
   ]
  },
  {
   "cell_type": "markdown",
   "metadata": {},
   "source": [
    "### c) Compute a centralidade de proximidade e identifique os top 50 lugares de acordo com essa métrica."
   ]
  },
  {
   "cell_type": "code",
   "execution_count": 10,
   "metadata": {},
   "outputs": [
    {
     "name": "stdout",
     "output_type": "stream",
     "text": [
      "[('221,64,1,83', 'Gaucho Parrilla Argentina'), ('1,420,651', 'täkō'), ('1,393,275,208,58,651', 'Condado Tacos'), ('275,604,420,173,1,58,641', 'Smallman Galley'), ('58,275,393,208,420,83,651,1', 'Bakersfield'), ('370,1,620,641', 'Noodlehead'), ('428,641,262,490,420,1,188', 'Meat & Potatoes'), ('1,287,289,405', \"DiAnoia's Eatery\"), ('604,1,208,612,58,275,437,706,133,641,289,613,330', 'Pork & Beans'), ('741,1,405,46', 'Piada Italian Street Food'), ('58,201,1,100,275,641,188', 'Southern Tier Brewery Pittsburgh'), ('1,861,791,870,550', 'Social House Seven'), ('289,208,817,58,275,1', 'Pirata'), ('1,362,857,204,641', 'Banh Mi & Ti'), ('133,641,1,275,5,58,420,575', 'Altius'), ('694,275,420,208,58,641,1', 'Butcher and the Rye'), ('420,100,612,604,1,58,341,275', 'City Works - Pittsburgh'), ('641,653,838,575,262', 'The Milk Shake Factory'), ('1,620,661,870,275,58', 'Ki Ramen'), ('1,289,641,653', \"Millie's Homemade Ice Cream\"), ('289,1,618,341,275,501,58,420', 'Primanti Bros'), ('275,1,58,201,604,575,641', 'Church Brew Works'), ('275,420,362,641,1,58,173', 'The Abbey on Butler Street'), ('420,602,741,188,1,604,289', 'The Urban Tap'), ('405,641,696,58,1,82,275', 'Proper Brick Oven & Tap Room'), ('1,613,248,651,393', 'Smoke BBQ Taqueria'), ('208,275,58,354,1,83', 'Muddy Waters Oyster Bar'), ('289,275,58,1,341,306,420', 'Primanti Bros'), ('58,405,641,275,575,420,116,1', 'Emporio: A Meatball Joint'), ('370,844,870,641,1,550', 'Pittsburgh Poke'), ('1,420,604', 'Ten Penny'), ('1,602,289,82,248,420', 'The Porch at Schenley'), ('1,275,208,366,594,447,58,891,162', 'Casbah'), ('1,162,344,173,575,641', 'Redhawk Coffee'), ('162,594,604,1', \"Deluca's Diner\"), ('1,620,631,370,83', 'Senyai Thai Kitchen'), ('1,420', 'Eleven'), ('289,162,1,594', \"P&G's Pamela's Diner\"), ('631,620,791,1', 'Everyday Noodles'), ('248,420,133,641,289,1,741,706,127,201', \"Burgh'ers Brewing\"), ('208,405,420,58,275,82,1', 'Sienna Mercato'), ('1,550,58,870,275', 'Umami'), ('162,641,1,370,173,420', 'Coca Cafe'), ('641,201,696', 'Mindful Brewing Company'), ('201,641', 'Grist House Craft Brewery'), ('891,594,604,83,1', 'Central Diner & Grille'), ('420,58,1,188,275', 'The Yard'), ('550,1,870,217,641,844,861', 'Mount Everest Sushi'), ('1,420,366,362,275,818,162,173,49,248,58,289,641', 'The Vandal'), ('496,158,636,173,162,641,362,1', 'B52 Cafe')]\n"
     ]
    }
   ],
   "source": [
    "prox = nx.closeness_centrality(G)\n",
    "\n",
    "top_keys = heapq.nlargest(50, prox, key=prox.get)\n",
    "\n",
    "result = [(G.nodes[key]['categories'], G.nodes[key]['name']) for key in top_keys if key in G.nodes]\n",
    "\n",
    "print(result)"
   ]
  },
  {
   "cell_type": "markdown",
   "metadata": {},
   "source": [
    "### d) Compute a centralidade de autovetor e identifique os top 50 lugares de acordo com essa métrica."
   ]
  },
  {
   "cell_type": "code",
   "execution_count": 11,
   "metadata": {},
   "outputs": [
    {
     "name": "stdout",
     "output_type": "stream",
     "text": [
      "[('221,64,1,83', 'Gaucho Parrilla Argentina'), ('1,420,651', 'täkō'), ('58,275,393,208,420,83,651,1', 'Bakersfield'), ('1,393,275,208,58,651', 'Condado Tacos'), ('1,287,289,405', \"DiAnoia's Eatery\"), ('428,641,262,490,420,1,188', 'Meat & Potatoes'), ('275,604,420,173,1,58,641', 'Smallman Galley'), ('370,1,620,641', 'Noodlehead'), ('741,1,405,46', 'Piada Italian Street Food'), ('604,1,208,612,58,275,437,706,133,641,289,613,330', 'Pork & Beans'), ('1,861,791,870,550', 'Social House Seven'), ('58,201,1,100,275,641,188', 'Southern Tier Brewery Pittsburgh'), ('133,641,1,275,5,58,420,575', 'Altius'), ('1,362,857,204,641', 'Banh Mi & Ti'), ('289,208,817,58,275,1', 'Pirata'), ('1,289,641,653', \"Millie's Homemade Ice Cream\"), ('694,275,420,208,58,641,1', 'Butcher and the Rye'), ('1,620,661,870,275,58', 'Ki Ramen'), ('420,100,612,604,1,58,341,275', 'City Works - Pittsburgh'), ('208,275,58,354,1,83', 'Muddy Waters Oyster Bar'), ('641,653,838,575,262', 'The Milk Shake Factory'), ('58,405,641,275,575,420,116,1', 'Emporio: A Meatball Joint'), ('289,1,618,341,275,501,58,420', 'Primanti Bros'), ('275,1,58,201,604,575,641', 'Church Brew Works'), ('1,602,289,82,248,420', 'The Porch at Schenley'), ('405,641,696,58,1,82,275', 'Proper Brick Oven & Tap Room'), ('1,420,604', 'Ten Penny'), ('275,420,362,641,1,58,173', 'The Abbey on Butler Street'), ('289,275,58,1,341,306,420', 'Primanti Bros'), ('1,420', 'Eleven'), ('420,602,741,188,1,604,289', 'The Urban Tap'), ('162,594,604,1', \"Deluca's Diner\"), ('1,162,344,173,575,641', 'Redhawk Coffee'), ('1,620,631,370,83', 'Senyai Thai Kitchen'), ('289,162,1,594', \"P&G's Pamela's Diner\"), ('1,613,248,651,393', 'Smoke BBQ Taqueria'), ('370,844,870,641,1,550', 'Pittsburgh Poke'), ('1,275,208,366,594,447,58,891,162', 'Casbah'), ('248,420,133,641,289,1,741,706,127,201', \"Burgh'ers Brewing\"), ('208,405,420,58,275,82,1', 'Sienna Mercato'), ('1,550,58,870,275', 'Umami'), ('550,1,870,217,641,844,861', 'Mount Everest Sushi'), ('201,641', 'Grist House Craft Brewery'), ('631,620,791,1', 'Everyday Noodles'), ('162,641,1,370,173,420', 'Coca Cafe'), ('496,158,636,173,162,641,362,1', 'B52 Cafe'), ('208,366,58,83,275,1', 'Monterey Bay Fish Grotto'), ('366,420,275,612,1,58', 'Casellula'), ('891,447,79,1,158,189,641', 'Istanbul Sofra'), ('562,1', 'Morcilla')]\n"
     ]
    }
   ],
   "source": [
    "autovet = nx.eigenvector_centrality(G)\n",
    "\n",
    "top_keys = heapq.nlargest(50, autovet, key=autovet.get)\n",
    "\n",
    "result = [(G.nodes[key]['categories'], G.nodes[key]['name']) for key in top_keys if key in G.nodes]\n",
    "\n",
    "print(result)"
   ]
  },
  {
   "cell_type": "markdown",
   "metadata": {},
   "source": [
    "### e) Interprete os resultados obtido nas letras a, b e c. O que pode explicar as diferenças nos ranqueamentos? Dica, interprete o que a métrica captura. Esse resultado é inesperado de alguma forma?\n",
    "\n",
    "Os resultados são diferentes pois cada métrica mede aspectos diferentes da relação entre o nó e seus vizinhos. Por exemplo, um nó pode ter várias conexões, mas baixa centralidade de intermediação se ele não for importante em caminhos curtos entre outros nós do grafo. Em redes onde temos concentrações, nós com alta centralidade de grau não necessariamente tem um um papel muito importante na intermediação. \n",
    "Então os resultados não são inesperados, também porque não faria sentido termos diferentes algoritmos para medir a mesma coisa. Também podemos pensar com o contexto desse grafo que há alguns restaurantes que podem ter um alto grau e assim alta centralidade mas ser muito nichado, assim também tendo um centralidade de intermediação baixa."
   ]
  },
  {
   "cell_type": "markdown",
   "metadata": {},
   "source": [
    "## 2- Considere a seguinte rede e responda as questões abaixo."
   ]
  },
  {
   "cell_type": "code",
   "execution_count": 2,
   "metadata": {
    "ExecuteTime": {
     "end_time": "2024-11-10T20:37:08.991461Z",
     "start_time": "2024-11-10T20:37:08.987639Z"
    }
   },
   "outputs": [
    {
     "name": "stdout",
     "output_type": "stream",
     "text": [
      "[('a', 'a'), ('a', 'b'), ('a', 'c'), ('b', 'a'), ('b', 'c'), ('c', 'b'), ('c', 'c')]\n",
      "3\n"
     ]
    }
   ],
   "source": [
    "import networkx as nx\n",
    "G = nx.DiGraph()\n",
    "\n",
    "G.add_node(\"a\")\n",
    "G.add_node(\"b\")\n",
    "G.add_node(\"c\")\n",
    "\n",
    "G.add_edge('a', 'a')\n",
    "G.add_edge('a', 'b')\n",
    "G.add_edge('a', 'c')\n",
    "G.add_edge('b', 'a')\n",
    "G.add_edge('b', 'c')\n",
    "G.add_edge('c', 'b')\n",
    "G.add_edge('c', 'c')\n",
    "\n",
    "print(list(G.edges))\n",
    "\n",
    "print(G.number_of_nodes())"
   ]
  },
  {
   "cell_type": "code",
   "execution_count": 4,
   "metadata": {
    "ExecuteTime": {
     "end_time": "2024-11-10T20:37:11.557745Z",
     "start_time": "2024-11-10T20:37:11.132243Z"
    }
   },
   "outputs": [
    {
     "data": {
      "image/png": "[encoded data removed]",
      "text/plain": [
       "<Figure size 640x480 with 1 Axes>"
      ]
     },
     "metadata": {},
     "output_type": "display_data"
    }
   ],
   "source": [
    "import matplotlib.pyplot as plt\n",
    "\n",
    "# Desenhando o grafo\n",
    "nx.draw(G, with_labels=True, node_size=500, node_color='lightblue', font_size=10, arrows=True)\n",
    "plt.show()"
   ]
  },
  {
   "cell_type": "code",
   "execution_count": 3,
   "metadata": {
    "ExecuteTime": {
     "end_time": "2024-11-10T20:38:32.412298Z",
     "start_time": "2024-11-10T20:38:32.408370Z"
    }
   },
   "outputs": [
    {
     "data": {
      "text/plain": [
       "{'a': 0.3333333333333333, 'b': 0.3333333333333333, 'c': 0.3333333333333333}"
      ]
     },
     "execution_count": 3,
     "metadata": {},
     "output_type": "execute_result"
    }
   ],
   "source": [
    "nx.pagerank(G=G, alpha=0)"
   ]
  },
  {
   "cell_type": "markdown",
   "metadata": {},
   "source": [
    "## a) O que acontece com as valores de PageRank dos nós conforme você aumenta o parâmetro de amortecimento (α) ?\n",
    "\n",
    "### alpha = 0.85\n",
    "{'a': 0.25255265830419843, 'b': 0.3082255419261199, 'c': 0.43922179976968145}\n",
    "\n",
    "### alpha = 0.99\n",
    "{'a': 0.2323019278265982, 'b': 0.3076944728588618, 'c': 0.4600035993145401}\n",
    "\n",
    "### alpha = 1\n",
    "{'a': 0.23076939249739378, 'b': 0.3076920761441615, 'c': 0.46153853135844464}\n",
    "\n",
    "O valor de pagerank de a e b diminui conforme o  parâmetro de amortecimento aumenta, enquanto o valor de c aumenta"
   ]
  },
  {
   "cell_type": "markdown",
   "metadata": {},
   "source": [
    "## b) O que acontece com as valores de PageRank dos nós quando o parâmetro de amortecimento (α) é 0? Explique a sua resposta.\n",
    "\n",
    "### alpha = 0.00\n",
    "{'a': 0.3333333333333333, 'b': 0.3333333333333333, 'c': 0.3333333333333333}\n",
    "\n",
    "Todos os nós tem o mesmo valor de pagerank. Isso significa que todos os nós tem a mesma probabilidade de que alguém visite seu site "
   ]
  },
  {
   "cell_type": "markdown",
   "metadata": {},
   "source": [
    "## 3- Explique resumidamente a ideia de Hubs e Authorities no contexto de métricas de centralidade de rede. \n",
    "\n",
    "A ideia de Hubs e Authorities vem do início da concepção da internet, hubs como sendo agregadores de sites que têm informação e authorities que são os sites que têm a informação de fato. Pensando em métricas de centralidade de redes podemos imaginar que hubs tendem a ter um alto grau de centralidade de aproximação e menor de centralidade, pois esses nós da internet irão apontar para vários outros links e não devem receber tantas entradas quanto. Enquanto alguns authorities devem ter um alto grau de centralidade de grau, pois como possuem uma informação X os hubs devem apontar para ele, importante ressaltar que isso não é regra e que se um site tem alto valor de centralidade de grau pode significar que é uma boa fonte. \n",
    "\n",
    "Interessante notar que essas métricas se reforçam: um nó é um bom hub se ele aponta para bons authorities, e um nó é uma boa authority se ele é referenciado por bons hubs. \n",
    "\n",
    "fonte usada: https://en.wikipedia.org/wiki/HITS_algorithm\n"
   ]
  }
 ],
 "metadata": {
  "kernelspec": {
   "display_name": "Python 3",
   "language": "python",
   "name": "python3"
  },
  "language_info": {
   "codemirror_mode": {
    "name": "ipython",
    "version": 3
   },
   "file_extension": ".py",
   "mimetype": "text/x-python",
   "name": "python",
   "nbconvert_exporter": "python",
   "pygments_lexer": "ipython3",
   "version": "3.10.12"
  }
 },
 "nbformat": 4,
 "nbformat_minor": 2
}
