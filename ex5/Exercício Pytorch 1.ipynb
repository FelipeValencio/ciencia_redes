{
 "cells": [
  {
   "cell_type": "markdown",
   "metadata": {},
   "source": [
    "## Exercício 1\n",
    "\n",
    "a) Faça a instalação do Pytorch. Se tiver GPU, garanta que instale os drivers/dependências necessárias.<br>\n",
    "b) Estude os detalhes de Pytorch. Garanta que você entendeu os conceitos básicos exemplificados."
   ]
  },
  {
   "cell_type": "markdown",
   "metadata": {},
   "source": [
    "## Exercício 2"
   ]
  },
  {
   "cell_type": "markdown",
   "metadata": {},
   "source": [
    "Considere esses valores abaixo para os tensores x e y:"
   ]
  },
  {
   "cell_type": "code",
   "execution_count": 5,
   "metadata": {},
   "outputs": [
    {
     "name": "stdout",
     "output_type": "stream",
     "text": [
      "tensor([[-1.1258, -1.1524, -0.2506],\n",
      "        [-0.4339,  0.8487,  0.6920],\n",
      "        [-0.3160, -2.1152,  0.3223],\n",
      "        [-1.2633,  0.3500,  0.3081],\n",
      "        [ 0.1198,  1.2377, -0.1435],\n",
      "        [-0.1116, -0.6136,  0.0316],\n",
      "        [-0.4927,  0.2484,  0.4397],\n",
      "        [ 0.1124, -0.8411, -2.3160],\n",
      "        [-0.1023,  0.7924, -0.2897],\n",
      "        [ 0.0525,  0.5229,  2.3022]])\n",
      "tensor([[ 0.9383,  0.4889],\n",
      "        [-0.6731,  0.8728],\n",
      "        [ 1.1108,  1.2899],\n",
      "        [-1.4782,  2.5672],\n",
      "        [-0.4731,  0.3356],\n",
      "        [ 1.5091,  2.0820],\n",
      "        [-0.4798, -0.4997],\n",
      "        [-1.0670,  1.1149],\n",
      "        [-0.1407,  0.8058],\n",
      "        [ 0.3276, -0.7607]])\n"
     ]
    }
   ],
   "source": [
    "import torch\n",
    "torch.manual_seed(0)\n",
    "\n",
    "#Shape (10, 3)\n",
    "x = torch.randn(10, 3)\n",
    "print(x)\n",
    "\n",
    "#Shape(10, 2)\n",
    "y = torch.randn(10, 2)\n",
    "print(y)\n"
   ]
  },
  {
   "cell_type": "markdown",
   "metadata": {},
   "source": [
    "Modifique o \"Primeiro modelo\" exemplificado no notebook criando um loop para repetir 1000 vezes os passos chave que foram repetidos duas vezes no exemplo com duas repetições. Como ficou o resultado?"
   ]
  }
 ],
 "metadata": {
  "kernelspec": {
   "display_name": "gnn",
   "language": "python",
   "name": "gnn"
  },
  "language_info": {
   "codemirror_mode": {
    "name": "ipython",
    "version": 3
   },
   "file_extension": ".py",
   "mimetype": "text/x-python",
   "name": "python",
   "nbconvert_exporter": "python",
   "pygments_lexer": "ipython3",
   "version": "3.7.13"
  }
 },
 "nbformat": 4,
 "nbformat_minor": 4
}
