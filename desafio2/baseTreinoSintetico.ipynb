{
 "cells": [
  {
   "cell_type": "markdown",
   "metadata": {},
   "source": [
    "Step 1: Create Positive and Negative Samples from Existing Graph"
   ]
  },
  {
   "cell_type": "code",
   "execution_count": null,
   "metadata": {},
   "outputs": [],
   "source": [
    "import random\n",
    "\n",
    "# Positive samples (existing edges)\n",
    "positive_edges = list(G.edges)\n",
    "df_positive = pd.DataFrame(positive_edges, columns=[\"venue1\", \"venue2\"])\n",
    "df_positive['link'] = 1  # Label as positive\n",
    "\n",
    "# Negative samples (non-existent edges)\n",
    "nodes = list(G.nodes)\n",
    "negative_edges = []\n",
    "while len(negative_edges) < len(positive_edges):  # Match number of positive examples\n",
    "    u, v = random.sample(nodes, 2)\n",
    "    if not G.has_edge(u, v):\n",
    "        negative_edges.append((u, v))\n",
    "\n",
    "df_negative = pd.DataFrame(negative_edges, columns=[\"venue1\", \"venue2\"])\n",
    "df_negative['link'] = 0  # Label as negative\n",
    "\n",
    "# Combine positive and negative samples\n",
    "df_train = pd.concat([df_positive, df_negative], ignore_index=True)\n"
   ]
  },
  {
   "cell_type": "markdown",
   "metadata": {},
   "source": [
    "Step 2: Calculate Features on Synthetic Training Set"
   ]
  },
  {
   "cell_type": "code",
   "execution_count": null,
   "metadata": {},
   "outputs": [],
   "source": [
    "# Use the calculate_features function defined earlier to create features for the training set\n",
    "df_train_features = df_train.apply(calculate_features, axis=1)\n",
    "df_train = pd.concat([df_train, df_train_features], axis=1)\n",
    "\n",
    "# Define features and labels\n",
    "X_train = df_train.drop(columns=['venue1', 'venue2', 'link'])\n",
    "y_train = df_train['link']\n"
   ]
  }
 ],
 "metadata": {
  "kernelspec": {
   "display_name": "Python 3",
   "language": "python",
   "name": "python3"
  },
  "language_info": {
   "name": "python",
   "version": "3.10.12"
  }
 },
 "nbformat": 4,
 "nbformat_minor": 2
}
